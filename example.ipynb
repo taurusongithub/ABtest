{
 "cells": [
  {
   "cell_type": "code",
   "execution_count": null,
   "id": "ada3b850-87cc-46ea-87a2-49435149bf3f",
   "metadata": {},
   "outputs": [],
   "source": [
    "from abtests.bernoulli_trials import equals_hypothesis\n"
   ]
  },
  {
   "cell_type": "code",
   "execution_count": null,
   "id": "e0f5a632-6ae4-47c6-bcb0-0272aa62f0a3",
   "metadata": {},
   "outputs": [],
   "source": [
    "results = equals_hypothesis(a_size=8500, a_successes=950,\n",
    "                            b_size=8600, b_successes=700,\n",
    "                            verbose=1)\n"
   ]
  },
  {
   "cell_type": "code",
   "execution_count": null,
   "id": "b68a927b-fce6-41b6-900b-447f9b4ddbaf",
   "metadata": {},
   "outputs": [],
   "source": [
    "print(results)\n",
    "# 0.05 if H0 is rejected exactly at 95% confidence (i.e. it should not\n",
    "# be rejected with a greater confidence)\n"
   ]
  }
 ],
 "metadata": {
  "kernelspec": {
   "display_name": "Python 3 (ipykernel)",
   "language": "python",
   "name": "python3"
  },
  "language_info": {
   "codemirror_mode": {
    "name": "ipython",
    "version": 3
   },
   "file_extension": ".py",
   "mimetype": "text/x-python",
   "name": "python",
   "nbconvert_exporter": "python",
   "pygments_lexer": "ipython3",
   "version": "3.9.7"
  }
 },
 "nbformat": 4,
 "nbformat_minor": 5
}
