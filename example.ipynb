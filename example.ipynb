{
 "cells": [
  {
   "cell_type": "code",
   "execution_count": 1,
   "id": "ada3b850-87cc-46ea-87a2-49435149bf3f",
   "metadata": {
    "execution": {
     "iopub.execute_input": "2021-09-19T19:40:52.041784Z",
     "iopub.status.busy": "2021-09-19T19:40:52.040633Z",
     "iopub.status.idle": "2021-09-19T19:40:52.044780Z",
     "shell.execute_reply": "2021-09-19T19:40:52.044308Z"
    }
   },
   "outputs": [],
   "source": [
    "from abtests.bernoulli_trials import equals_hypothesis\n"
   ]
  },
  {
   "cell_type": "code",
   "execution_count": 2,
   "id": "e0f5a632-6ae4-47c6-bcb0-0272aa62f0a3",
   "metadata": {
    "execution": {
     "iopub.execute_input": "2021-09-19T19:40:52.048560Z",
     "iopub.status.busy": "2021-09-19T19:40:52.048039Z",
     "iopub.status.idle": "2021-09-19T19:40:52.050746Z",
     "shell.execute_reply": "2021-09-19T19:40:52.050190Z"
    }
   },
   "outputs": [],
   "source": [
    "results = equals_hypothesis(a_size=8500, a_successes=950,\n",
    "                            b_size=8600, b_successes=700,\n",
    "                            verbose=1)\n"
   ]
  },
  {
   "cell_type": "code",
   "execution_count": 3,
   "id": "b68a927b-fce6-41b6-900b-447f9b4ddbaf",
   "metadata": {
    "execution": {
     "iopub.execute_input": "2021-09-19T19:40:52.054366Z",
     "iopub.status.busy": "2021-09-19T19:40:52.053824Z",
     "iopub.status.idle": "2021-09-19T19:40:52.056131Z",
     "shell.execute_reply": "2021-09-19T19:40:52.056538Z"
    }
   },
   "outputs": [
    {
     "name": "stdout",
     "output_type": "stream",
     "text": [
      "0.05\n"
     ]
    }
   ],
   "source": [
    "print(results)\n",
    "# 0.05 if H0 is rejected exactly at 95% confidence (i.e. it should not\n",
    "# be rejected with a greater confidence)\n"
   ]
  }
 ],
 "metadata": {
  "kernelspec": {
   "display_name": "Python 3 (ipykernel)",
   "language": "python",
   "name": "python3"
  },
  "language_info": {
   "codemirror_mode": {
    "name": "ipython",
    "version": 3
   },
   "file_extension": ".py",
   "mimetype": "text/x-python",
   "name": "python",
   "nbconvert_exporter": "python",
   "pygments_lexer": "ipython3",
   "version": "3.9.7"
  }
 },
 "nbformat": 4,
 "nbformat_minor": 5
}
