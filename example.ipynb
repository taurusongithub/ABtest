{
 "cells": [
  {
   "cell_type": "code",
   "execution_count": 1,
   "id": "ada3b850-87cc-46ea-87a2-49435149bf3f",
   "metadata": {
    "execution": {
     "iopub.execute_input": "2021-09-21T01:47:35.034107Z",
     "iopub.status.busy": "2021-09-21T01:47:35.033548Z",
     "iopub.status.idle": "2021-09-21T01:47:35.362972Z",
     "shell.execute_reply": "2021-09-21T01:47:35.362329Z"
    }
   },
   "outputs": [],
   "source": [
    "from abtests.bernoulli_trials import equals_hypothesis\n"
   ]
  },
  {
   "cell_type": "code",
   "execution_count": 2,
   "id": "e615bffe-37c8-4e2b-95ea-0d2f6c97e644",
   "metadata": {
    "execution": {
     "iopub.execute_input": "2021-09-21T01:47:35.369731Z",
     "iopub.status.busy": "2021-09-21T01:47:35.369079Z",
     "iopub.status.idle": "2021-09-21T01:47:35.372417Z",
     "shell.execute_reply": "2021-09-21T01:47:35.371977Z"
    },
    "tags": []
   },
   "outputs": [],
   "source": [
    "from scipy.stats import bernoulli, binom\n",
    "\n",
    "sens = 1.1\n",
    "base_rate = 0.15\n",
    "a = bernoulli(base_rate)\n",
    "b = bernoulli(base_rate * sens)\n",
    "n = 20000\n",
    "sampler = binom(n, 0.5)\n"
   ]
  },
  {
   "cell_type": "code",
   "execution_count": 3,
   "id": "f9496418-61f8-43c7-89a0-f27f9b6589f8",
   "metadata": {
    "execution": {
     "iopub.execute_input": "2021-09-21T01:47:35.376993Z",
     "iopub.status.busy": "2021-09-21T01:47:35.376508Z",
     "iopub.status.idle": "2021-09-21T01:47:41.457608Z",
     "shell.execute_reply": "2021-09-21T01:47:41.457060Z"
    }
   },
   "outputs": [
    {
     "name": "stdout",
     "output_type": "stream",
     "text": [
      "81.27 %\n"
     ]
    }
   ],
   "source": [
    "values = 0\n",
    "s = 10000\n",
    "a_lens = sampler.rvs(s)\n",
    "\n",
    "for a_len in a_lens:\n",
    "    b_len = n - a_len\n",
    "    if equals_hypothesis(a_len, a.rvs(size=a_len).sum(), \n",
    "                         b_len, b.rvs(size=b_len).sum()) < 0.05:\n",
    "        values += 1\n",
    "\n",
    "print(100*values/s, \"%\")\n"
   ]
  },
  {
   "cell_type": "code",
   "execution_count": 4,
   "id": "cacd159a-fdbf-4525-9815-a2b5f258a1ce",
   "metadata": {
    "execution": {
     "iopub.execute_input": "2021-09-21T01:47:41.463089Z",
     "iopub.status.busy": "2021-09-21T01:47:41.462556Z",
     "iopub.status.idle": "2021-09-21T01:47:41.473202Z",
     "shell.execute_reply": "2021-09-21T01:47:41.473601Z"
    }
   },
   "outputs": [
    {
     "name": "stdout",
     "output_type": "stream",
     "text": [
      "A has 10067 elements\n",
      "B has 9933 elements\n",
      "statistic -4.349660068005567\n",
      "correction 0.9667568075841214\n"
     ]
    },
    {
     "data": {
      "text/plain": [
       "True"
      ]
     },
     "execution_count": 4,
     "metadata": {},
     "output_type": "execute_result"
    }
   ],
   "source": [
    "a_len = sampler.rvs(1)[0]\n",
    "b_len = n - a_len\n",
    "equals_hypothesis(a_len, a.rvs(size=a_len).sum(), \n",
    "                  b_len, b.rvs(size=b_len).sum(), verbose=1) < 0.05"
   ]
  }
 ],
 "metadata": {
  "kernelspec": {
   "display_name": "Python 3 (ipykernel)",
   "language": "python",
   "name": "python3"
  },
  "language_info": {
   "codemirror_mode": {
    "name": "ipython",
    "version": 3
   },
   "file_extension": ".py",
   "mimetype": "text/x-python",
   "name": "python",
   "nbconvert_exporter": "python",
   "pygments_lexer": "ipython3",
   "version": "3.9.7"
  }
 },
 "nbformat": 4,
 "nbformat_minor": 5
}
